{
 "cells": [
  {
   "cell_type": "code",
   "execution_count": 1,
   "metadata": {},
   "outputs": [
    {
     "name": "stdout",
     "output_type": "stream",
     "text": [
      "   product_id            product_type  \\\n",
      "0    43247626         Wool mini skirt   \n",
      "1    43247441                  Jacket   \n",
      "2    43246517               Wool coat   \n",
      "3    43246507              Mini skirt   \n",
      "4    43246417  Vegan leather trousers   \n",
      "\n",
      "                                        product_name  \\\n",
      "0  Wool mini skirt Miu Miu Grey size S Internatio...   \n",
      "1      Jacket Barbara Bui Navy size 42 FR in Cotton    \n",
      "2  Wool coat Comme Des Garcons White size S Inter...   \n",
      "3     Mini skirt MSGM Black size 38 IT in Polyester    \n",
      "4  Vegan leather trousers LVIR Black size 36 FR i...   \n",
      "\n",
      "                                 product_description  \\\n",
      "0  Miu Miu – Pleated mini skirt Size: 36 (S)  Wai...   \n",
      "1  For selling nice women's suit Barbara Bui size...   \n",
      "2  Magnificent boiled wool coat. I bought it in t...   \n",
      "3  MSGM Skirt Black Printed Raw-Edge & Embroidere...   \n",
      "4  LVIR black grained faux leather trousers size ...   \n",
      "\n",
      "               product_keywords product_gender_target product_category  \\\n",
      "0           Miu Miu Wool Skirts                 Women   Women Clothing   \n",
      "1    Barbara Bui Cotton Jackets                 Women   Women Clothing   \n",
      "2  Comme Des Garcons Wool Coats                 Women   Women Clothing   \n",
      "3         MSGM Polyester Skirts                 Women   Women Clothing   \n",
      "4   LVIR Vegan leather Trousers                 Women   Women Clothing   \n",
      "\n",
      "    product_season    product_condition  product_like_count  ...  \\\n",
      "0  Autumn / Winter           Never worn                34.0  ...   \n",
      "1      All seasons  Very good condition                 1.0  ...   \n",
      "2  Autumn / Winter  Very good condition                 2.0  ...   \n",
      "3      All seasons  Very good condition                 0.0  ...   \n",
      "4      All seasons  Very good condition                 1.0  ...   \n",
      "\n",
      "   warehouse_name  seller_id   seller_username  usually_ships_within  \\\n",
      "0       Tourcoing   25775970   vitalii25775970                   NaN   \n",
      "1       Tourcoing   13698770    olivia13698770                   NaN   \n",
      "2       Tourcoing    6042365    cecilia6042365              1-2 days   \n",
      "3        Brooklyn   13172949  gretchen13172949              1-2 days   \n",
      "4         Crawley    2578605        crunchykat              3-5 days   \n",
      "\n",
      "   seller_country  seller_products_sold seller_num_products_listed  \\\n",
      "0         Germany                   3.0                       14.0   \n",
      "1         Belgium                   0.0                        0.0   \n",
      "2           Spain                  58.0                       69.0   \n",
      "3   United States                  63.0                      274.0   \n",
      "4  United Kingdom                  19.0                       14.0   \n",
      "\n",
      "  seller_community_rank seller_num_followers seller_pass_rate  \n",
      "0                   0.0                 13.0              0.0  \n",
      "1                   0.0                  8.0              0.0  \n",
      "2                   0.0                 62.0             96.0  \n",
      "3              126346.0                131.0             96.0  \n",
      "4              102821.0                 40.0             89.0  \n",
      "\n",
      "[5 rows x 36 columns]\n"
     ]
    }
   ],
   "source": [
    "import pandas as pd\n",
    "\n",
    "\n",
    "df = pd.read_csv('vestiaire.csv')\n",
    "\n",
    "\n",
    "print(df.head())\n"
   ]
  },
  {
   "cell_type": "code",
   "execution_count": 2,
   "metadata": {},
   "outputs": [
    {
     "name": "stdout",
     "output_type": "stream",
     "text": [
      "CSV successfully converted to Parquet!\n"
     ]
    }
   ],
   "source": [
    "# Save as a Parquet file (with compression for smaller size)\n",
    "df.to_parquet('vestiaire.parquet', engine='pyarrow', compression='snappy')\n",
    "\n",
    "print(\"CSV successfully converted to Parquet!\")"
   ]
  },
  {
   "cell_type": "code",
   "execution_count": 3,
   "metadata": {},
   "outputs": [],
   "source": [
    "df = pd.read_parquet('vestiaire.parquet')\n"
   ]
  },
  {
   "cell_type": "code",
   "execution_count": 4,
   "metadata": {},
   "outputs": [
    {
     "name": "stdout",
     "output_type": "stream",
     "text": [
      "product_id                         0\n",
      "product_type                       0\n",
      "product_name                       0\n",
      "product_description                7\n",
      "product_keywords                1183\n",
      "product_gender_target              0\n",
      "product_category                1183\n",
      "product_season                     2\n",
      "product_condition                  0\n",
      "product_like_count                 0\n",
      "sold                               0\n",
      "reserved                           0\n",
      "available                          0\n",
      "in_stock                           0\n",
      "should_be_gone                     0\n",
      "brand_id                           0\n",
      "brand_name                         0\n",
      "brand_url                          0\n",
      "product_material                   4\n",
      "product_color                      1\n",
      "price_usd                          0\n",
      "seller_price                       0\n",
      "seller_earning                     0\n",
      "seller_badge                       0\n",
      "has_cross_border_fees          13736\n",
      "buyers_fees                    13736\n",
      "warehouse_name                     0\n",
      "seller_id                          0\n",
      "seller_username                   39\n",
      "usually_ships_within          154791\n",
      "seller_country                     0\n",
      "seller_products_sold               0\n",
      "seller_num_products_listed         0\n",
      "seller_community_rank              0\n",
      "seller_num_followers               0\n",
      "seller_pass_rate                   0\n",
      "dtype: int64\n"
     ]
    }
   ],
   "source": [
    "# Check for missing values in each column\n",
    "print(df.isnull().sum())"
   ]
  },
  {
   "cell_type": "code",
   "execution_count": 5,
   "metadata": {},
   "outputs": [
    {
     "name": "stdout",
     "output_type": "stream",
     "text": [
      "Column: product_gender_target, Unique Values: 2\n",
      "product_gender_target\n",
      "Women    482377\n",
      "Men      418137\n",
      "Name: count, dtype: int64 \n",
      "\n",
      "Column: product_category, Unique Values: 6\n",
      "product_category\n",
      "Men Clothing         193082\n",
      "Women Clothing       192197\n",
      "Women Accessories    146018\n",
      "Women Shoes          143833\n",
      "Men Shoes            125425\n",
      "Men Accessories       98776\n",
      "Name: count, dtype: int64 \n",
      "\n",
      "Column: product_season, Unique Values: 3\n",
      "product_season\n",
      "All seasons        748108\n",
      "Autumn / Winter    114216\n",
      "Spring / Summer     38188\n",
      "Name: count, dtype: int64 \n",
      "\n",
      "Column: product_condition, Unique Values: 5\n",
      "product_condition\n",
      "Very good condition     401142\n",
      "Never worn              221316\n",
      "Good condition          130546\n",
      "Never worn, with tag    123122\n",
      "Fair condition           24388\n",
      "Name: count, dtype: int64 \n",
      "\n",
      "Column: seller_badge, Unique Values: 3\n",
      "seller_badge\n",
      "Common     511080\n",
      "Expert     222990\n",
      "Trusted    166444\n",
      "Name: count, dtype: int64 \n",
      "\n",
      "Column: warehouse_name, Unique Values: 6\n",
      "warehouse_name\n",
      "Tourcoing    628442\n",
      "Brooklyn     128105\n",
      "Crawley       76495\n",
      "Hong Kong     67320\n",
      "Paris           151\n",
      "New York          1\n",
      "Name: count, dtype: int64 \n",
      "\n",
      "Column: usually_ships_within, Unique Values: 4\n",
      "usually_ships_within\n",
      "1-2 days            546943\n",
      "3-5 days            180755\n",
      "6-7 days             16816\n",
      "More than 7 days      1209\n",
      "Name: count, dtype: int64 \n",
      "\n"
     ]
    }
   ],
   "source": [
    "# Set the range of classes to check (e.g., between 2 and 15)\n",
    "min_classes = 2\n",
    "max_classes = 15\n",
    "\n",
    "# Columns to exclude from the check\n",
    "exclude_columns = ['product_name', 'product_description', 'product_keywords', 'seller_id', 'seller_username']\n",
    "\n",
    "# Identify categorical (string-type) columns within the desired range, excluding specified columns\n",
    "categorical_columns = [col for col in df.select_dtypes(include='object').columns \n",
    "                       if col not in exclude_columns \n",
    "                       and min_classes <= df[col].nunique() <= max_classes]\n",
    "\n",
    "# Display these columns and their unique value counts\n",
    "for col in categorical_columns:\n",
    "    print(f\"Column: {col}, Unique Values: {df[col].nunique()}\")\n",
    "    print(df[col].value_counts(), \"\\n\")"
   ]
  },
  {
   "cell_type": "markdown",
   "metadata": {},
   "source": [
    "*Encoding*"
   ]
  },
  {
   "cell_type": "code",
   "execution_count": 6,
   "metadata": {},
   "outputs": [
    {
     "name": "stdout",
     "output_type": "stream",
     "text": [
      "   product_id            product_type  \\\n",
      "0    43247626         Wool mini skirt   \n",
      "1    43247441                  Jacket   \n",
      "2    43246517               Wool coat   \n",
      "3    43246507              Mini skirt   \n",
      "4    43246417  Vegan leather trousers   \n",
      "\n",
      "                                        product_name  \\\n",
      "0  Wool mini skirt Miu Miu Grey size S Internatio...   \n",
      "1      Jacket Barbara Bui Navy size 42 FR in Cotton    \n",
      "2  Wool coat Comme Des Garcons White size S Inter...   \n",
      "3     Mini skirt MSGM Black size 38 IT in Polyester    \n",
      "4  Vegan leather trousers LVIR Black size 36 FR i...   \n",
      "\n",
      "                                 product_description  \\\n",
      "0  Miu Miu – Pleated mini skirt Size: 36 (S)  Wai...   \n",
      "1  For selling nice women's suit Barbara Bui size...   \n",
      "2  Magnificent boiled wool coat. I bought it in t...   \n",
      "3  MSGM Skirt Black Printed Raw-Edge & Embroidere...   \n",
      "4  LVIR black grained faux leather trousers size ...   \n",
      "\n",
      "               product_keywords  product_like_count   sold  reserved  \\\n",
      "0           Miu Miu Wool Skirts                34.0   True     False   \n",
      "1    Barbara Bui Cotton Jackets                 1.0  False     False   \n",
      "2  Comme Des Garcons Wool Coats                 2.0  False     False   \n",
      "3         MSGM Polyester Skirts                 0.0  False     False   \n",
      "4   LVIR Vegan leather Trousers                 1.0  False     False   \n",
      "\n",
      "   available  in_stock  ...  seller_num_products_listed  \\\n",
      "0       True     False  ...                        14.0   \n",
      "1       True     False  ...                         0.0   \n",
      "2       True     False  ...                        69.0   \n",
      "3       True     False  ...                       274.0   \n",
      "4       True     False  ...                        14.0   \n",
      "\n",
      "   seller_community_rank seller_num_followers seller_pass_rate  \\\n",
      "0                    0.0                 13.0              0.0   \n",
      "1                    0.0                  8.0              0.0   \n",
      "2                    0.0                 62.0             96.0   \n",
      "3               126346.0                131.0             96.0   \n",
      "4               102821.0                 40.0             89.0   \n",
      "\n",
      "  product_category_encoded product_season_encoded  product_condition_encoded  \\\n",
      "0                 192197.0                      1                          3   \n",
      "1                 192197.0                      0                          2   \n",
      "2                 192197.0                      1                          2   \n",
      "3                 192197.0                      0                          2   \n",
      "4                 192197.0                      0                          2   \n",
      "\n",
      "   seller_badge_encoded  warehouse_name_encoded usually_ships_within_encoded  \n",
      "0                     0                  628442                           -1  \n",
      "1                     0                  628442                           -1  \n",
      "2                     1                  628442                            0  \n",
      "3                     1                  128105                            0  \n",
      "4                     0                   76495                            1  \n",
      "\n",
      "[5 rows x 35 columns]\n"
     ]
    }
   ],
   "source": [
    "import pandas as pd\n",
    "from sklearn.preprocessing import LabelEncoder\n",
    "\n",
    "# 1. Label Encoding: 'product_gender_target'\n",
    "le = LabelEncoder()\n",
    "df['product_gender_target'] = le.fit_transform(df['product_gender_target'])\n",
    "# 'Women' → 1, 'Men' → 0\n",
    "\n",
    "# 2. Frequency Encoding: 'product_category'\n",
    "category_freq = df['product_category'].value_counts().to_dict()\n",
    "df['product_category_encoded'] = df['product_category'].map(category_freq)\n",
    "\n",
    "# 3. Ordinal Encoding: 'product_season'\n",
    "season_order = ['All seasons', 'Autumn / Winter', 'Spring / Summer']\n",
    "df['product_season_encoded'] = df['product_season'].astype('category')\n",
    "df['product_season_encoded'] = df['product_season_encoded'].cat.set_categories(season_order, ordered=True).cat.codes\n",
    "# 'All seasons' → 0, 'Autumn / Winter' → 1, 'Spring / Summer' → 2\n",
    "\n",
    "# 4. Ordinal Encoding: 'product_condition'\n",
    "condition_order = ['Fair condition', 'Good condition', 'Very good condition', 'Never worn', 'Never worn, with tag']\n",
    "df['product_condition_encoded'] = df['product_condition'].astype('category')\n",
    "df['product_condition_encoded'] = df['product_condition_encoded'].cat.set_categories(condition_order, ordered=True).cat.codes\n",
    "# 'Fair condition' → 0, ..., 'Never worn, with tag' → 4\n",
    "\n",
    "# 5. Ordinal Encoding: 'seller_badge'\n",
    "badge_order = ['Common', 'Expert', 'Trusted']\n",
    "df['seller_badge_encoded'] = df['seller_badge'].astype('category')\n",
    "df['seller_badge_encoded'] = df['seller_badge_encoded'].cat.set_categories(badge_order, ordered=True).cat.codes\n",
    "# 'Common' → 0, 'Expert' → 1, 'Trusted' → 2\n",
    "\n",
    "# 6. Frequency Encoding: 'warehouse_name'\n",
    "warehouse_freq = df['warehouse_name'].value_counts().to_dict()\n",
    "df['warehouse_name_encoded'] = df['warehouse_name'].map(warehouse_freq)\n",
    "\n",
    "# 7. Ordinal Encoding: 'usually_ships_within'\n",
    "shipping_order = ['1-2 days', '3-5 days', '6-7 days', 'More than 7 days']\n",
    "df['usually_ships_within_encoded'] = df['usually_ships_within'].astype('category')\n",
    "df['usually_ships_within_encoded'] = df['usually_ships_within_encoded'].cat.set_categories(shipping_order, ordered=True).cat.codes\n",
    "# '1-2 days' → 0, ..., 'More than 7 days' → 3\n",
    "\n",
    "\n",
    "df.drop(['product_gender_target', 'product_category', 'product_season', 'product_condition', \n",
    "         'seller_badge', 'warehouse_name', 'usually_ships_within'], axis=1, inplace=True)\n",
    "\n",
    "print(df.head())\n"
   ]
  },
  {
   "cell_type": "code",
   "execution_count": 7,
   "metadata": {},
   "outputs": [
    {
     "name": "stdout",
     "output_type": "stream",
     "text": [
      "product_id                          0\n",
      "product_type                        0\n",
      "product_name                        0\n",
      "product_description                 7\n",
      "product_keywords                 1183\n",
      "product_like_count                  0\n",
      "sold                                0\n",
      "reserved                            0\n",
      "available                           0\n",
      "in_stock                            0\n",
      "should_be_gone                      0\n",
      "brand_id                            0\n",
      "brand_name                          0\n",
      "brand_url                           0\n",
      "product_material                    4\n",
      "product_color                       1\n",
      "price_usd                           0\n",
      "seller_price                        0\n",
      "seller_earning                      0\n",
      "has_cross_border_fees           13736\n",
      "buyers_fees                     13736\n",
      "seller_id                           0\n",
      "seller_username                    39\n",
      "seller_country                      0\n",
      "seller_products_sold                0\n",
      "seller_num_products_listed          0\n",
      "seller_community_rank               0\n",
      "seller_num_followers                0\n",
      "seller_pass_rate                    0\n",
      "product_category_encoded         1183\n",
      "product_season_encoded              0\n",
      "product_condition_encoded           0\n",
      "seller_badge_encoded                0\n",
      "warehouse_name_encoded              0\n",
      "usually_ships_within_encoded        0\n",
      "dtype: int64\n"
     ]
    }
   ],
   "source": [
    "# Check for missing values in each column\n",
    "print(df.isnull().sum())"
   ]
  },
  {
   "cell_type": "code",
   "execution_count": 8,
   "metadata": {},
   "outputs": [
    {
     "name": "stdout",
     "output_type": "stream",
     "text": [
      "<class 'pandas.core.frame.DataFrame'>\n",
      "RangeIndex: 900514 entries, 0 to 900513\n",
      "Data columns (total 35 columns):\n",
      " #   Column                        Non-Null Count   Dtype  \n",
      "---  ------                        --------------   -----  \n",
      " 0   product_id                    900514 non-null  int64  \n",
      " 1   product_type                  900514 non-null  object \n",
      " 2   product_name                  900514 non-null  object \n",
      " 3   product_description           900507 non-null  object \n",
      " 4   product_keywords              899331 non-null  object \n",
      " 5   product_like_count            900514 non-null  float64\n",
      " 6   sold                          900514 non-null  bool   \n",
      " 7   reserved                      900514 non-null  bool   \n",
      " 8   available                     900514 non-null  bool   \n",
      " 9   in_stock                      900514 non-null  bool   \n",
      " 10  should_be_gone                900514 non-null  bool   \n",
      " 11  brand_id                      900514 non-null  int64  \n",
      " 12  brand_name                    900514 non-null  object \n",
      " 13  brand_url                     900514 non-null  object \n",
      " 14  product_material              900510 non-null  object \n",
      " 15  product_color                 900513 non-null  object \n",
      " 16  price_usd                     900514 non-null  float64\n",
      " 17  seller_price                  900514 non-null  float64\n",
      " 18  seller_earning                900514 non-null  float64\n",
      " 19  has_cross_border_fees         886778 non-null  object \n",
      " 20  buyers_fees                   886778 non-null  float64\n",
      " 21  seller_id                     900514 non-null  int64  \n",
      " 22  seller_username               900475 non-null  object \n",
      " 23  seller_country                900514 non-null  object \n",
      " 24  seller_products_sold          900514 non-null  float64\n",
      " 25  seller_num_products_listed    900514 non-null  float64\n",
      " 26  seller_community_rank         900514 non-null  float64\n",
      " 27  seller_num_followers          900514 non-null  float64\n",
      " 28  seller_pass_rate              900514 non-null  float64\n",
      " 29  product_category_encoded      899331 non-null  float64\n",
      " 30  product_season_encoded        900514 non-null  int8   \n",
      " 31  product_condition_encoded     900514 non-null  int8   \n",
      " 32  seller_badge_encoded          900514 non-null  int8   \n",
      " 33  warehouse_name_encoded        900514 non-null  int64  \n",
      " 34  usually_ships_within_encoded  900514 non-null  int8   \n",
      "dtypes: bool(5), float64(11), int64(4), int8(4), object(11)\n",
      "memory usage: 186.4+ MB\n",
      "None\n"
     ]
    }
   ],
   "source": [
    "print(df.info())"
   ]
  },
  {
   "cell_type": "code",
   "execution_count": 9,
   "metadata": {},
   "outputs": [
    {
     "name": "stdout",
     "output_type": "stream",
     "text": [
      "Columns with missing values:\n",
      " ['product_description', 'product_keywords', 'product_material', 'product_color', 'has_cross_border_fees', 'buyers_fees', 'seller_username', 'product_category_encoded']\n",
      "\n",
      "Column: product_description\n",
      "product_description\n",
      "Very good condition              2185\n",
      "abrigo burberry vintage y2k      1169\n",
      "New                              1099\n",
      "Never worn                       1028\n",
      "Good condition                    944\n",
      "CHAQUETA BURBERRY VINTAGE Y2K     658\n",
      "Made in Italy                     410\n",
      "In very good condition            360\n",
      "Very good state                   345\n",
      "camisa burberry vintage y2k       337\n",
      "Name: count, dtype: int64\n",
      "\n",
      "Column: product_keywords\n",
      "product_keywords\n",
      "Gucci Plastic Sunglasses                           4078\n",
      "Hermès Silk Scarves                                2513\n",
      "Hermès Silk Ties                                   2441\n",
      "Burberry Cotton Coats                              2347\n",
      "Prada Plastic Sunglasses                           2184\n",
      "Gucci Leather Trainers                             1815\n",
      "Gucci Leather Flats                                1759\n",
      "Gucci Metal Sunglasses                             1724\n",
      "Louis Vuitton Leather Wallets                      1704\n",
      "Polo Ralph Lauren Cotton Knitwear & Sweatshirts    1609\n",
      "Name: count, dtype: int64\n",
      "\n",
      "Column: product_material\n",
      "product_material\n",
      "Leather      216823\n",
      "Cotton       166488\n",
      "Wool          70464\n",
      "Silk          67300\n",
      "Polyester     64454\n",
      "Plastic       37307\n",
      "Suede         35017\n",
      "Cloth         34958\n",
      "Steel         22719\n",
      "Viscose       21737\n",
      "Name: count, dtype: int64\n",
      "\n",
      "Column: product_color\n",
      "product_color\n",
      "Black          240920\n",
      "Blue            98132\n",
      "Multicolour     79880\n",
      "Brown           75834\n",
      "White           68439\n",
      "Grey            52689\n",
      "Beige           49059\n",
      "Pink            30280\n",
      "Red             30107\n",
      "Green           29885\n",
      "Name: count, dtype: int64\n",
      "\n",
      "Column: has_cross_border_fees\n",
      "has_cross_border_fees\n",
      "True    886778\n",
      "Name: count, dtype: int64\n",
      "\n",
      "Column: buyers_fees\n",
      "buyers_fees\n",
      "0.00     33571\n",
      "31.95    12615\n",
      "10.65    10575\n",
      "21.30    10556\n",
      "9.59      9949\n",
      "12.78     9722\n",
      "42.60     9670\n",
      "25.56     9514\n",
      "7.46      9485\n",
      "8.52      9453\n",
      "Name: count, dtype: int64\n",
      "\n",
      "Column: seller_username\n",
      "seller_username\n",
      "LMPL                    10715\n",
      "theluxurycloset          5845\n",
      "RAGTAG                   4117\n",
      "closercoltd13276748      4058\n",
      "elena17220628            4004\n",
      "viteenvogue              3765\n",
      "brandearbags10056903     2992\n",
      "jaiio                    2562\n",
      "luvintasy                2401\n",
      "vincenzo5679155          2274\n",
      "Name: count, dtype: int64\n",
      "\n",
      "Column: product_category_encoded\n",
      "product_category_encoded\n",
      "193082.0    193082\n",
      "192197.0    192197\n",
      "146018.0    146018\n",
      "143833.0    143833\n",
      "125425.0    125425\n",
      "98776.0      98776\n",
      "Name: count, dtype: int64\n"
     ]
    }
   ],
   "source": [
    "# Identify columns with missing values\n",
    "missing_cols = df.columns[df.isnull().any()].tolist()\n",
    "print(\"Columns with missing values:\\n\", missing_cols)\n",
    "\n",
    "# Examine non-null values for each column with missing values\n",
    "for col in missing_cols:\n",
    "    print(f\"\\nColumn: {col}\")\n",
    "    print(df[col].dropna().value_counts().head(10))  # Display the 10 most frequent non-null values\n"
   ]
  },
  {
   "cell_type": "code",
   "execution_count": 10,
   "metadata": {},
   "outputs": [
    {
     "name": "stderr",
     "output_type": "stream",
     "text": [
      "/var/folders/rz/m9y4lv2543b4h866w76_dhv40000gn/T/ipykernel_44826/902045652.py:3: FutureWarning: A value is trying to be set on a copy of a DataFrame or Series through chained assignment using an inplace method.\n",
      "The behavior will change in pandas 3.0. This inplace method will never work because the intermediate object on which we are setting values always behaves as a copy.\n",
      "\n",
      "For example, when doing 'df[col].method(value, inplace=True)', try using 'df.method({col: value}, inplace=True)' or df[col] = df[col].method(value) instead, to perform the operation inplace on the original object.\n",
      "\n",
      "\n",
      "  df['has_cross_border_fees'].fillna(False, inplace=True)\n",
      "/var/folders/rz/m9y4lv2543b4h866w76_dhv40000gn/T/ipykernel_44826/902045652.py:3: FutureWarning: Downcasting object dtype arrays on .fillna, .ffill, .bfill is deprecated and will change in a future version. Call result.infer_objects(copy=False) instead. To opt-in to the future behavior, set `pd.set_option('future.no_silent_downcasting', True)`\n",
      "  df['has_cross_border_fees'].fillna(False, inplace=True)\n"
     ]
    },
    {
     "name": "stdout",
     "output_type": "stream",
     "text": [
      "   has_cross_border_fees_encoded\n",
      "0                              0\n",
      "1                              1\n",
      "2                              1\n",
      "3                              1\n",
      "4                              1\n"
     ]
    }
   ],
   "source": [
    "#encode has_cross_border_fees\n",
    "# Step 1: Fill missing values with False\n",
    "df['has_cross_border_fees'].fillna(False, inplace=True)\n",
    "\n",
    "# Step 2: Label Encode the column (True → 1, False → 0)\n",
    "le = LabelEncoder()\n",
    "df['has_cross_border_fees_encoded'] = le.fit_transform(df['has_cross_border_fees'])\n",
    "\n",
    "# Step 3: Drop the original column\n",
    "df.drop('has_cross_border_fees', axis=1, inplace=True)\n",
    "\n",
    "# Verify the change\n",
    "print(df[['has_cross_border_fees_encoded']].head())"
   ]
  },
  {
   "cell_type": "code",
   "execution_count": 11,
   "metadata": {},
   "outputs": [
    {
     "name": "stdout",
     "output_type": "stream",
     "text": [
      "Remaining null values in 'product_color': 0\n",
      "                                      product_description product_color\n",
      "298430  Harmont & Blaine corduroy trousers, size It 44...          Grey\n",
      "311078  Plein Sport MEN'S BLACK JACKETS UPPS102P99_BLA...         Black\n",
      "231070              Olimpia Milano Basket team sweatshirt          Grey\n",
      "530013  BRUNELLO CUCINELLI ❤ ❤ ❤ NEW never worn with o...         Brown\n",
      "531779  Gucci Wallet  100% Authentic  Condition: In gr...         Brown\n",
      "210993  Woolrich light spring jacket for men. Waterpro...         Khaki\n",
      "578388               Miu Miu Pink Wallet   from boutiques          Pink\n",
      "701693  DR.MARTENS Leather derby shoes Size EU 42 Meas...         Black\n",
      "152084  Luxury Polo Ralph Lauren sweater  Size: M Very...          Navy\n",
      "578151  Ray-Ban Aviator polarized sunglasses   Gold fr...          Gold\n"
     ]
    }
   ],
   "source": [
    "#imputing missing product_color values\n",
    "\n",
    "import re\n",
    "import numpy as np\n",
    "\n",
    "# Step 1: Drop rows where product_description is null\n",
    "df.dropna(subset=['product_description'], inplace=True)\n",
    "\n",
    "# ✅ Step 2: List of colors to extract\n",
    "color_list = [\n",
    "    \"black\", \"white\", \"red\", \"blue\", \"green\", \"yellow\", \"pink\", \"grey\", \"gray\", \"purple\",\n",
    "    \"orange\", \"brown\", \"beige\", \"gold\", \"silver\", \"navy\", \"multicolour\", \"burgundy\",\n",
    "    \"ivory\", \"cream\", \"maroon\", \"khaki\", \"teal\", \"olive\", \"bronze\", \"turquoise\"\n",
    "]\n",
    "\n",
    "# Create a regex pattern to match colors (case-insensitive)\n",
    "color_pattern = re.compile(r'\\b(?:' + '|'.join(color_list) + r')\\b', re.IGNORECASE)\n",
    "\n",
    "# Step 3: Function to extract the first matching color from product_description\n",
    "def extract_color(description):\n",
    "    match = color_pattern.search(description)\n",
    "    return match.group(0).lower() if match else np.nan\n",
    "\n",
    "# Step 4: Fill missing product_color using extracted colors\n",
    "df.loc[df['product_color'].isna(), 'product_color'] = df.loc[df['product_color'].isna(), 'product_description'].apply(extract_color)\n",
    "\n",
    "# Step 5: Check remaining missing values in product_color\n",
    "print(\"Remaining null values in 'product_color':\", df['product_color'].isna().sum())\n",
    "\n",
    "# Step 6: Verify changes\n",
    "print(df[['product_description', 'product_color']].sample(10))\n"
   ]
  },
  {
   "cell_type": "code",
   "execution_count": 12,
   "metadata": {},
   "outputs": [
    {
     "name": "stdout",
     "output_type": "stream",
     "text": [
      "Color Mapping (Original -> Encoded): {'Anthracite': 0, 'Beige': 1, 'Beige / Grey': 2, 'Black': 3, 'Blue': 4, 'Bordeaux': 5, 'Brown': 6, 'Burgundy': 7, 'Camel': 8, 'Charcoal': 9, 'Ecru': 10, 'Gold': 11, 'Green': 12, 'Grey': 13, 'Khaki': 14, 'Metallic': 15, 'Multicolour': 16, 'Navy': 17, 'Orange': 18, 'Pink': 19, 'Purple': 20, 'Red': 21, 'Silver': 22, 'Turquoise': 23, 'White': 24, 'White / Black': 25, 'Yellow': 26, 'black': 27, 'brown/black': 28, 'camel': 29, 'silver/black': 30}\n",
      "  product_color  product_color_encoded\n",
      "0          Grey                     13\n",
      "1          Navy                     17\n",
      "2         White                     24\n",
      "3         Black                      3\n",
      "4         Black                      3\n",
      "5         White                     24\n",
      "6         Black                      3\n",
      "7         Black                      3\n",
      "8         Beige                      1\n",
      "9          Grey                     13\n"
     ]
    }
   ],
   "source": [
    "# Step 7: Label Encoding for 'product_color'\n",
    "label_encoder = LabelEncoder()\n",
    "df['product_color_encoded'] = label_encoder.fit_transform(df['product_color'])\n",
    "\n",
    "# Step 8: Map encoded labels back to original colors (for reference)\n",
    "color_mapping = dict(zip(label_encoder.classes_, label_encoder.transform(label_encoder.classes_)))\n",
    "print(\"Color Mapping (Original -> Encoded):\", color_mapping)\n",
    "\n",
    "# Step 9: Confirm encoding\n",
    "print(df[['product_color', 'product_color_encoded']].head(10))"
   ]
  },
  {
   "cell_type": "code",
   "execution_count": 13,
   "metadata": {},
   "outputs": [
    {
     "data": {
      "text/plain": [
       "product_keywords             1183\n",
       "product_material                4\n",
       "buyers_fees                 13736\n",
       "seller_username                39\n",
       "product_category_encoded     1183\n",
       "dtype: int64"
      ]
     },
     "execution_count": 13,
     "metadata": {},
     "output_type": "execute_result"
    }
   ],
   "source": [
    "df.isnull().sum()[df.isnull().sum() > 0]"
   ]
  },
  {
   "cell_type": "code",
   "execution_count": 14,
   "metadata": {},
   "outputs": [],
   "source": [
    "df.dropna(subset=['seller_username'], inplace=True)\n"
   ]
  },
  {
   "cell_type": "code",
   "execution_count": 15,
   "metadata": {},
   "outputs": [],
   "source": [
    "df.dropna(subset=['product_material'], inplace=True)\n"
   ]
  },
  {
   "cell_type": "code",
   "execution_count": 16,
   "metadata": {},
   "outputs": [],
   "source": [
    "df.dropna(subset=['product_keywords'], inplace=True)\n"
   ]
  },
  {
   "cell_type": "code",
   "execution_count": 17,
   "metadata": {},
   "outputs": [
    {
     "data": {
      "text/plain": [
       "buyers_fees    13727\n",
       "dtype: int64"
      ]
     },
     "execution_count": 17,
     "metadata": {},
     "output_type": "execute_result"
    }
   ],
   "source": [
    "df.isnull().sum()[df.isnull().sum() > 0]"
   ]
  },
  {
   "cell_type": "code",
   "execution_count": 18,
   "metadata": {},
   "outputs": [
    {
     "name": "stdout",
     "output_type": "stream",
     "text": [
      "Minimum buyers_fees: 0.0\n",
      "Maximum buyers_fees: 105435.0\n",
      "count    885554.000000\n",
      "mean         55.528420\n",
      "std         290.456913\n",
      "min           0.000000\n",
      "25%          11.720000\n",
      "50%          24.000000\n",
      "75%          50.560000\n",
      "max      105435.000000\n",
      "Name: buyers_fees, dtype: float64\n"
     ]
    }
   ],
   "source": [
    "# Check the range of buyer fees\n",
    "print(\"Minimum buyers_fees:\", df['buyers_fees'].min())\n",
    "print(\"Maximum buyers_fees:\", df['buyers_fees'].max())\n",
    "\n",
    "# Or use describe() for a more detailed summary\n",
    "print(df['buyers_fees'].describe())\n"
   ]
  },
  {
   "cell_type": "code",
   "execution_count": 19,
   "metadata": {},
   "outputs": [
    {
     "data": {
      "image/png": "[encoded data removed]",
      "text/plain": [
       "<Figure size 1000x600 with 1 Axes>"
      ]
     },
     "metadata": {},
     "output_type": "display_data"
    }
   ],
   "source": [
    "import matplotlib.pyplot as plt\n",
    "import seaborn as sns\n",
    "\n",
    "# Set plot size and style\n",
    "plt.figure(figsize=(10, 6))\n",
    "sns.set_style(\"whitegrid\")\n",
    "\n",
    "# Plot distribution of buyers_fees\n",
    "sns.histplot(df['buyers_fees'], bins=100, kde=True, color='royalblue')\n",
    "\n",
    "# Add labels and title\n",
    "plt.title('Distribution of Buyers Fees', fontsize=16)\n",
    "plt.xlabel('Buyers Fees (USD)', fontsize=12)\n",
    "plt.ylabel('Frequency', fontsize=12)\n",
    "\n",
    "# Show plot\n",
    "plt.show()\n"
   ]
  },
  {
   "cell_type": "markdown",
   "metadata": {},
   "source": [
    "Highly skewed distribution so using iterative imputation to handle this column.\n",
    "\n",
    "For knn imputation, we first check feature importance by setting buyers_fees as target with random forest, and then using those features to do knn imputation."
   ]
  },
  {
   "cell_type": "code",
   "execution_count": 22,
   "metadata": {},
   "outputs": [
    {
     "name": "stdout",
     "output_type": "stream",
     "text": [
      "String columns in the dataset:\n",
      "['product_type', 'product_name', 'product_description', 'product_keywords', 'brand_name', 'brand_url', 'product_material', 'product_color', 'seller_username', 'seller_country']\n"
     ]
    }
   ],
   "source": [
    "#find all string type columns in dataset\n",
    "string_columns = df.select_dtypes(include='object').columns.tolist()\n",
    "\n",
    "print(\"String columns in the dataset:\")\n",
    "print(string_columns)"
   ]
  },
  {
   "cell_type": "code",
   "execution_count": 23,
   "metadata": {},
   "outputs": [
    {
     "name": "stdout",
     "output_type": "stream",
     "text": [
      "Label encoding complete!\n"
     ]
    }
   ],
   "source": [
    "#label encode important string columns\n",
    "from sklearn.preprocessing import LabelEncoder\n",
    "\n",
    "# Columns to label encode\n",
    "label_encode_cols = ['product_type', 'brand_name', 'product_material', 'product_color', 'seller_country']\n",
    "\n",
    "# Initialize LabelEncoder\n",
    "label_encoders = {}\n",
    "\n",
    "for col in label_encode_cols:\n",
    "    le = LabelEncoder()\n",
    "    df[col] = le.fit_transform(df[col].astype(str))\n",
    "    label_encoders[col] = le  # Store encoder for future inverse transform if needed\n",
    "\n",
    "print(\"Label encoding complete!\")\n"
   ]
  },
  {
   "cell_type": "code",
   "execution_count": null,
   "metadata": {},
   "outputs": [
    {
     "name": "stdout",
     "output_type": "stream",
     "text": [
      "                          Feature  Importance\n",
      "9                       price_usd    0.595814\n",
      "11                 seller_earning    0.256159\n",
      "10                   seller_price    0.060765\n",
      "12                 seller_country    0.039274\n",
      "22         warehouse_name_encoded    0.010989\n",
      "1              product_like_count    0.007160\n",
      "16           seller_num_followers    0.006386\n",
      "13           seller_products_sold    0.005631\n",
      "14     seller_num_products_listed    0.003370\n",
      "17               seller_pass_rate    0.003166\n",
      "21           seller_badge_encoded    0.002179\n",
      "15          seller_community_rank    0.001804\n",
      "20      product_condition_encoded    0.001463\n",
      "25          product_color_encoded    0.001446\n",
      "7                product_material    0.001363\n",
      "0                    product_type    0.001231\n",
      "23   usually_ships_within_encoded    0.000677\n",
      "8                   product_color    0.000560\n",
      "18       product_category_encoded    0.000445\n",
      "19         product_season_encoded    0.000110\n",
      "4                       available    0.000006\n",
      "5                        in_stock    0.000002\n",
      "6                  should_be_gone    0.000000\n",
      "3                        reserved    0.000000\n",
      "2                            sold    0.000000\n",
      "24  has_cross_border_fees_encoded    0.000000\n"
     ]
    },
    {
     "data": {
      "image/png": "[encoded data removed]",
      "text/plain": [
       "<Figure size 1000x600 with 1 Axes>"
      ]
     },
     "metadata": {},
     "output_type": "display_data"
    },
    {
     "ename": "ValueError",
     "evalue": "'buyers_fees' is not in list",
     "output_type": "error",
     "traceback": [
      "\u001b[0;31m---------------------------------------------------------------------------\u001b[0m",
      "\u001b[0;31mValueError\u001b[0m                                Traceback (most recent call last)",
      "Cell \u001b[0;32mIn[26], line 50\u001b[0m\n\u001b[1;32m     47\u001b[0m imputed_values \u001b[38;5;241m=\u001b[39m knn_imputer\u001b[38;5;241m.\u001b[39mfit_transform(X_scaled)\n\u001b[1;32m     49\u001b[0m \u001b[38;5;66;03m# Replace missing buyers_fees\u001b[39;00m\n\u001b[0;32m---> 50\u001b[0m df\u001b[38;5;241m.\u001b[39mloc[df[\u001b[38;5;124m'\u001b[39m\u001b[38;5;124mbuyers_fees\u001b[39m\u001b[38;5;124m'\u001b[39m]\u001b[38;5;241m.\u001b[39misnull(), \u001b[38;5;124m'\u001b[39m\u001b[38;5;124mbuyers_fees\u001b[39m\u001b[38;5;124m'\u001b[39m] \u001b[38;5;241m=\u001b[39m scaler\u001b[38;5;241m.\u001b[39minverse_transform(imputed_values)[df[\u001b[38;5;124m'\u001b[39m\u001b[38;5;124mbuyers_fees\u001b[39m\u001b[38;5;124m'\u001b[39m]\u001b[38;5;241m.\u001b[39misnull(), \u001b[43mtop_features\u001b[49m\u001b[38;5;241;43m.\u001b[39;49m\u001b[43mindex\u001b[49m\u001b[43m(\u001b[49m\u001b[38;5;124;43m'\u001b[39;49m\u001b[38;5;124;43mbuyers_fees\u001b[39;49m\u001b[38;5;124;43m'\u001b[39;49m\u001b[43m)\u001b[49m]\n\u001b[1;32m     52\u001b[0m \u001b[38;5;66;03m# Step 5: Validate the Imputation\u001b[39;00m\n\u001b[1;32m     53\u001b[0m plt\u001b[38;5;241m.\u001b[39mfigure(figsize\u001b[38;5;241m=\u001b[39m(\u001b[38;5;241m10\u001b[39m, \u001b[38;5;241m6\u001b[39m))\n",
      "\u001b[0;31mValueError\u001b[0m: 'buyers_fees' is not in list"
     ]
    }
   ],
   "source": [
    "import pandas as pd\n",
    "import numpy as np\n",
    "import matplotlib.pyplot as plt\n",
    "import seaborn as sns\n",
    "from sklearn.ensemble import RandomForestRegressor\n",
    "from sklearn.impute import KNNImputer\n",
    "from sklearn.preprocessing import StandardScaler\n",
    "\n",
    "# Step 1: Prepare Data\n",
    "# Drop irrelevant columns for training\n",
    "excluded_cols = ['product_id', 'product_name', 'product_description', 'product_keywords',\n",
    "                 'brand_name', 'brand_url', 'seller_username','brand_id', 'seller_id']\n",
    "\n",
    "# Select features for training\n",
    "X = df.drop(columns=excluded_cols + ['buyers_fees'])\n",
    "y = df['buyers_fees']\n",
    "\n",
    "# Keep only rows where 'buyers_fees' is not null\n",
    "X = X[y.notnull()]\n",
    "y = y[y.notnull()]\n",
    "\n",
    "# Step 2: Fit Random Forest for Feature Importance\n",
    "rf = RandomForestRegressor(n_estimators=100, random_state=42)\n",
    "rf.fit(X, y)\n",
    "\n",
    "# Step 3: Feature Importance\n",
    "feature_importances = pd.DataFrame({'Feature': X.columns, 'Importance': rf.feature_importances_})\n",
    "feature_importances.sort_values(by='Importance', ascending=False, inplace=True)\n",
    "\n",
    "# Display and plot feature importance\n",
    "print(feature_importances)\n",
    "plt.figure(figsize=(10, 6))\n",
    "sns.barplot(x='Importance', y='Feature', data=feature_importances.head(15))\n",
    "plt.title('Top 15 Features for Buyers Fees Prediction')\n",
    "plt.show()\n",
    "\n",
    "# Step 4: KNN Imputation Using Top Features\n",
    "# Select top 10 features\n",
    "top_features = feature_importances.head(10)['Feature'].tolist()\n",
    "\n",
    "# Scale the data (KNN works better with scaled data)\n",
    "scaler = StandardScaler()\n",
    "X_scaled = scaler.fit_transform(df[top_features])\n",
    "\n",
    "# Apply KNN Imputer\n",
    "knn_imputer = KNNImputer(n_neighbors=5)\n",
    "imputed_values = knn_imputer.fit_transform(X_scaled)\n",
    "\n",
    "\n"
   ]
  },
  {
   "cell_type": "code",
   "execution_count": 28,
   "metadata": {},
   "outputs": [],
   "source": [
    "from sklearn.impute import KNNImputer\n",
    "from sklearn.preprocessing import StandardScaler\n",
    "\n",
    "# Step 4: KNN Imputation Using Top 10 Features\n",
    "top_features = feature_importances.head(10)['Feature'].tolist()\n",
    "\n",
    "# Scale the data for better KNN performance\n",
    "scaler = StandardScaler()\n",
    "X_scaled = scaler.fit_transform(df[top_features])\n",
    "\n",
    "# Apply KNN Imputer\n",
    "knn_imputer = KNNImputer(n_neighbors=5)\n",
    "imputed_values = knn_imputer.fit_transform(X_scaled)\n",
    "\n",
    "# Inverse transform to get back to original scale\n",
    "imputed_scaled = scaler.inverse_transform(imputed_values)\n",
    "\n",
    "# Identify rows where 'buyers_fees' is missing\n",
    "missing_rows = df['buyers_fees'].isnull()\n",
    "\n",
    "# Choose the best proxy feature (e.g., 'price_usd' if it's correlated)\n",
    "proxy_feature = 'price_usd'  # Replace with your chosen feature\n",
    "\n",
    "# Fill missing buyers_fees using the corresponding imputed value\n",
    "df.loc[missing_rows, 'buyers_fees'] = imputed_scaled[missing_rows, top_features.index(proxy_feature)]\n"
   ]
  },
  {
   "cell_type": "code",
   "execution_count": 30,
   "metadata": {},
   "outputs": [
    {
     "name": "stdout",
     "output_type": "stream",
     "text": [
      "product_id                       0\n",
      "product_type                     0\n",
      "product_name                     0\n",
      "product_description              0\n",
      "product_keywords                 0\n",
      "product_like_count               0\n",
      "sold                             0\n",
      "reserved                         0\n",
      "available                        0\n",
      "in_stock                         0\n",
      "should_be_gone                   0\n",
      "brand_id                         0\n",
      "brand_name                       0\n",
      "brand_url                        0\n",
      "product_material                 0\n",
      "product_color                    0\n",
      "price_usd                        0\n",
      "seller_price                     0\n",
      "seller_earning                   0\n",
      "buyers_fees                      0\n",
      "seller_id                        0\n",
      "seller_username                  0\n",
      "seller_country                   0\n",
      "seller_products_sold             0\n",
      "seller_num_products_listed       0\n",
      "seller_community_rank            0\n",
      "seller_num_followers             0\n",
      "seller_pass_rate                 0\n",
      "product_category_encoded         0\n",
      "product_season_encoded           0\n",
      "product_condition_encoded        0\n",
      "seller_badge_encoded             0\n",
      "warehouse_name_encoded           0\n",
      "usually_ships_within_encoded     0\n",
      "has_cross_border_fees_encoded    0\n",
      "product_color_encoded            0\n",
      "dtype: int64\n"
     ]
    }
   ],
   "source": [
    "print(df.isnull().sum())"
   ]
  },
  {
   "cell_type": "code",
   "execution_count": 31,
   "metadata": {},
   "outputs": [
    {
     "name": "stdout",
     "output_type": "stream",
     "text": [
      "product_id                       0\n",
      "product_type                     0\n",
      "product_name                     0\n",
      "product_description              0\n",
      "product_keywords                 0\n",
      "product_like_count               0\n",
      "sold                             0\n",
      "reserved                         0\n",
      "available                        0\n",
      "in_stock                         0\n",
      "should_be_gone                   0\n",
      "brand_id                         0\n",
      "brand_name                       0\n",
      "brand_url                        0\n",
      "product_material                 0\n",
      "product_color                    0\n",
      "price_usd                        0\n",
      "seller_price                     0\n",
      "seller_earning                   0\n",
      "buyers_fees                      0\n",
      "seller_id                        0\n",
      "seller_username                  0\n",
      "seller_country                   0\n",
      "seller_products_sold             0\n",
      "seller_num_products_listed       0\n",
      "seller_community_rank            0\n",
      "seller_num_followers             0\n",
      "seller_pass_rate                 0\n",
      "product_category_encoded         0\n",
      "product_season_encoded           0\n",
      "product_condition_encoded        0\n",
      "seller_badge_encoded             0\n",
      "warehouse_name_encoded           0\n",
      "usually_ships_within_encoded     0\n",
      "has_cross_border_fees_encoded    0\n",
      "product_color_encoded            0\n",
      "dtype: int64\n"
     ]
    }
   ],
   "source": [
    "print(df.isnull().sum())"
   ]
  },
  {
   "cell_type": "code",
   "execution_count": 32,
   "metadata": {},
   "outputs": [
    {
     "name": "stdout",
     "output_type": "stream",
     "text": [
      "File saved successfully as 'cleaned_data.parquet'\n"
     ]
    }
   ],
   "source": [
    "# Save the cleaned DataFrame as a Parquet file\n",
    "df.to_parquet('cleaned_data.parquet', index=False)\n",
    "\n",
    "print(\"File saved successfully as 'cleaned_data.parquet'\")\n"
   ]
  }
 ],
 "metadata": {
  "kernelspec": {
   "display_name": "base",
   "language": "python",
   "name": "python3"
  },
  "language_info": {
   "codemirror_mode": {
    "name": "ipython",
    "version": 3
   },
   "file_extension": ".py",
   "mimetype": "text/x-python",
   "name": "python",
   "nbconvert_exporter": "python",
   "pygments_lexer": "ipython3",
   "version": "3.10.13"
  }
 },
 "nbformat": 4,
 "nbformat_minor": 2
}
